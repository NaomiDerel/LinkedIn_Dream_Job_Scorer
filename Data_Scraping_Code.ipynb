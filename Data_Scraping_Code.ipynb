{
  "cells": [
    {
      "cell_type": "markdown",
      "metadata": {
        "id": "Ht7g2igjqW9I"
      },
      "source": [
        "# Task 1: Scrape Information per profession \n",
        "\n",
        "This is from the O*Net website, which is a database of occupational information. The information includes fields like average wages, required skills, etc."
      ]
    },
    {
      "cell_type": "code",
      "execution_count": null,
      "metadata": {
        "id": "8IHQjB7RGKdc"
      },
      "outputs": [],
      "source": [
        "from requests import get\n",
        "from bs4 import BeautifulSoup\n",
        "from IPython.core.display import clear_output\n",
        "from datetime import datetime\n",
        "import pandas as pd\n",
        "import matplotlib.pyplot as plt"
      ]
    },
    {
      "cell_type": "markdown",
      "metadata": {
        "id": "66xAIyf7eSQt"
      },
      "source": [
        "### Scrape 'page codes' for occupations to create urls:"
      ]
    },
    {
      "cell_type": "code",
      "execution_count": null,
      "metadata": {
        "id": "a8XYW4BrgDZ8"
      },
      "outputs": [],
      "source": [
        "url = 'https://www.onetonline.org/find/all'\n",
        "headers = {\"user-agent\": \"Mozilla/5.0 (Windows NT 10.0; Win64; x64) AppleWebKit/537.36 (KHTML, like Gecko) Chrome/88.0.4324.182 Safari/537.36\"}\n",
        "\n",
        "response = get(url,headers=headers)\n",
        "html_soup = BeautifulSoup(response.text, 'html.parser')\n",
        "codes_page = html_soup.find('div', id ='content')\n",
        "\n",
        "codes_divs = codes_page.find_all('td', class_='text-end w-15 mw-8e')\n",
        "\n",
        "codes = []\n",
        "for cd in codes_divs:\n",
        "  if cd.text is not None:\n",
        "    codes.append(cd.text)\n",
        "\n",
        "print(codes[0:10])"
      ]
    },
    {
      "cell_type": "markdown",
      "metadata": {
        "id": "uuRr_h5ceGmc"
      },
      "source": [
        "### Test example for scraping a single profession (dentist):"
      ]
    },
    {
      "cell_type": "code",
      "execution_count": null,
      "metadata": {
        "id": "Lzc4AR_iGXm_"
      },
      "outputs": [],
      "source": [
        "url = 'https://www.onetonline.org/link/summary/29-1021.00'\n",
        "headers = {\"user-agent\": \"Mozilla/5.0 (Windows NT 10.0; Win64; x64) AppleWebKit/537.36 (KHTML, like Gecko) Chrome/88.0.4324.182 Safari/537.36\"}"
      ]
    },
    {
      "cell_type": "code",
      "execution_count": null,
      "metadata": {
        "id": "X6RTwx_MHRnV"
      },
      "outputs": [],
      "source": [
        "response = get(url,headers=headers)\n",
        "html_soup = BeautifulSoup(response.text, 'html.parser')\n",
        "content = html_soup.find('div', id ='content')"
      ]
    },
    {
      "cell_type": "code",
      "execution_count": null,
      "metadata": {
        "id": "KQZmLejIHwLH"
      },
      "outputs": [],
      "source": [
        "## profession name:\n",
        "\n",
        "name_div = content.find('span', class_ = 'main')\n",
        "if name_div is not None:\n",
        "  name = name_div.text"
      ]
    },
    {
      "cell_type": "code",
      "execution_count": null,
      "metadata": {
        "colab": {
          "base_uri": "https://localhost:8080/",
          "height": 36
        },
        "id": "0d96CwfuI2lN",
        "outputId": "eef0ccc5-3365-4887-c016-cb15384aee8c"
      },
      "outputs": [
        {
          "data": {
            "application/vnd.google.colaboratory.intrinsic+json": {
              "type": "string"
            },
            "text/plain": [
              "'$74.54 hourly, $155,040 annual'"
            ]
          },
          "execution_count": 50,
          "metadata": {},
          "output_type": "execute_result"
        }
      ],
      "source": [
        "## wage:\n",
        "\n",
        "content.find('div', id='WagesEmployment').find('dd', class_=\"col-sm-9 col-form-label pt-xso-0\").text"
      ]
    },
    {
      "cell_type": "code",
      "execution_count": null,
      "metadata": {
        "colab": {
          "base_uri": "https://localhost:8080/"
        },
        "id": "9FACfy-pJp3-",
        "outputId": "124e4ce8-9c14-42a2-cadc-82c5cef0e4e7"
      },
      "outputs": [
        {
          "name": "stdout",
          "output_type": "stream",
          "text": [
            "['Use masks, gloves, and safety glasses to protect patients and self from infectious diseases.', 'Examine teeth, gums, and related tissues, using dental instruments, x-rays, or other diagnostic equipment, to evaluate dental health, diagnose diseases or abnormalities, and plan appropriate treatments.', 'Administer anesthetics to limit the amount of pain experienced by patients during procedures.', 'Use dental air turbines, hand instruments, dental appliances, or surgical implements.', \"Formulate plan of treatment for patient's teeth and mouth tissue.\", 'Diagnose and treat diseases, injuries, or malformations of teeth, gums, or related oral structures and provide preventive or corrective services.', 'Write prescriptions for antibiotics or other medications.', 'Advise or instruct patients regarding preventive dental care, the causes and treatment of dental problems, or oral health care services.', 'Design, make, or fit prosthodontic appliances, such as space maintainers, bridges, or dentures, or write fabrication instructions or prescriptions for denturists or dental technicians.', 'Fill pulp chamber and canal with endodontic materials.', 'Treat exposure of pulp by pulp capping, removal of pulp from pulp chamber, or root canal, using dental instruments.', 'Remove diseased tissue, using surgical instruments.', 'Manage business aspects such as employing or supervising staff or handling paperwork or insurance claims.', 'Analyze or evaluate dental needs to determine changes or trends in patterns of dental disease.', 'Apply fluoride or sealants to teeth.', 'Eliminate irritating margins of fillings and correct occlusions, using dental instruments.', 'Perform oral or periodontal surgery on the jaw or mouth.', 'Plan, organize, or maintain dental health programs.', 'Bleach, clean, or polish teeth to restore natural color.', 'Produce or evaluate dental health educational materials.']\n"
          ]
        }
      ],
      "source": [
        "## occupational specific tasks:\n",
        "\n",
        "tasks_con = content.find('div', class_=\"reportsection\", id='Tasks')\n",
        "tasks_divs_all = tasks_con.find_all('div', class_=\"order-2 flex-grow-1\")\n",
        "\n",
        "tasks_list = []\n",
        "for td in tasks_divs_all:\n",
        "  tasks_list.append(td.text.strip())\n",
        "\n",
        "print(tasks_list)"
      ]
    },
    {
      "cell_type": "code",
      "execution_count": null,
      "metadata": {
        "colab": {
          "base_uri": "https://localhost:8080/"
        },
        "id": "BLP7wkrZPEU7",
        "outputId": "9f577e8d-b6e1-4a55-8380-8dd99c2bc31f"
      },
      "outputs": [
        {
          "name": "stdout",
          "output_type": "stream",
          "text": [
            "[('Accounting software', []), ('Internet browser software', ['Web browser software']), ('Medical software', ['AlphaDent', 'eClinicalWorks EHR software', 'Henry Schein Dentrix', 'Windent SQL']), ('Office suite software', ['Microsoft Office software']), ('Spreadsheet software', ['Microsoft Excel']), ('Word processing software', [])]\n"
          ]
        }
      ],
      "source": [
        "## occupational specific technology skills:\n",
        "\n",
        "techskills_con = content.find('div', class_=\"reportsection\", id='TechnologySkills')\n",
        "techskills_divs_all = techskills_con.find_all('div', class_=\"order-2 flex-grow-1\")\n",
        "\n",
        "techskills_list = []\n",
        "for td in techskills_divs_all:\n",
        "  text = td.text\n",
        "  # print(text)\n",
        "  if '—' in text:\n",
        "    title, desc = text.split('—')\n",
        "  else:\n",
        "    title = text\n",
        "    desc = None\n",
        "\n",
        "  sw_list = []\n",
        "  if desc is not None:\n",
        "    sw_list = [sw.strip() for sw in desc.split(';') if 'more' not in sw]\n",
        "\n",
        "  techskills_list.append((title.strip(), sw_list))\n",
        "\n",
        "print(techskills_list)"
      ]
    },
    {
      "cell_type": "code",
      "execution_count": null,
      "metadata": {
        "colab": {
          "base_uri": "https://localhost:8080/"
        },
        "id": "9EFGCMvrSqd_",
        "outputId": "3c593e27-66ea-4591-ff41-c7e981dc55b4"
      },
      "outputs": [
        {
          "name": "stdout",
          "output_type": "stream",
          "text": [
            "[('Critical Thinking', 'Using logic and reasoning to identify the strengths and weaknesses of alternative solutions, conclusions, or approaches to problems.'), ('Judgment and Decision Making', 'Considering the relative costs and benefits of potential actions to choose the most appropriate one.'), ('Active Listening', 'Giving full attention to what other people are saying, taking time to understand the points being made, asking questions as appropriate, and not interrupting at inappropriate times.'), ('Complex Problem Solving', 'Identifying complex problems and reviewing related information to develop and evaluate options and implement solutions.'), ('Monitoring', 'Monitoring/Assessing performance of yourself, other individuals, or organizations to make improvements or take corrective action.'), ('Reading Comprehension', 'Understanding written sentences and paragraphs in work-related documents.'), ('Speaking', 'Talking to others to convey information effectively.'), ('Active Learning', 'Understanding the implications of new information for both current and future problem-solving and decision-making.'), ('Service Orientation', 'Actively looking for ways to help people.'), ('Social Perceptiveness', \"Being aware of others' reactions and understanding why they react as they do.\"), ('Time Management', \"Managing one's own time and the time of others.\"), ('Coordination', \"Adjusting actions in relation to others' actions.\"), ('Persuasion', 'Persuading others to change their minds or behavior.'), ('Science', 'Using scientific rules and methods to solve problems.'), ('Management of Personnel Resources', 'Motivating, developing, and directing people as they work, identifying the best people for the job.'), ('Instructing', 'Teaching others how to do something.'), ('Writing', 'Communicating effectively in writing as appropriate for the needs of the audience.'), ('Learning Strategies', 'Selecting and using training/instructional methods and procedures appropriate for the situation when learning or teaching new things.'), ('Negotiation', 'Bringing others together and trying to reconcile differences.'), ('Management of Financial Resources', 'Determining how money will be spent to get the work done, and accounting for these expenditures.'), ('Management of Material Resources', 'Obtaining and seeing to the appropriate use of equipment, facilities, and materials needed to do certain work.')]\n"
          ]
        }
      ],
      "source": [
        "## worker requirments skills\n",
        "\n",
        "worker_skills_con = content.find('div', class_=\"reportsection\", id='Skills')\n",
        "worker_skills_divs_all = worker_skills_con.find_all('div', class_=\"order-2 flex-grow-1\")\n",
        "\n",
        "worker_skills_list = []\n",
        "for sd in worker_skills_divs_all:\n",
        "  text = sd.text\n",
        "  if '—' in text:\n",
        "    title, desc = text.split('—')\n",
        "  else:\n",
        "    title = text\n",
        "    desc = None\n",
        "  worker_skills_list.append((title.strip(), desc.strip()))\n",
        "\n",
        "print(worker_skills_list)"
      ]
    },
    {
      "cell_type": "code",
      "execution_count": null,
      "metadata": {
        "colab": {
          "base_uri": "https://localhost:8080/"
        },
        "id": "LaNsZTStXmjB",
        "outputId": "bcfcc8b9-d77e-4437-ef23-ecfc661b6eff"
      },
      "outputs": [
        {
          "name": "stdout",
          "output_type": "stream",
          "text": [
            "[('Critical Thinking', 'Using logic and reasoning to identify the strengths and weaknesses of alternative solutions, conclusions, or approaches to problems.'), ('Judgment and Decision Making', 'Considering the relative costs and benefits of potential actions to choose the most appropriate one.'), ('Active Listening', 'Giving full attention to what other people are saying, taking time to understand the points being made, asking questions as appropriate, and not interrupting at inappropriate times.'), ('Complex Problem Solving', 'Identifying complex problems and reviewing related information to develop and evaluate options and implement solutions.'), ('Monitoring', 'Monitoring/Assessing performance of yourself, other individuals, or organizations to make improvements or take corrective action.'), ('Reading Comprehension', 'Understanding written sentences and paragraphs in work-related documents.'), ('Speaking', 'Talking to others to convey information effectively.'), ('Active Learning', 'Understanding the implications of new information for both current and future problem-solving and decision-making.'), ('Service Orientation', 'Actively looking for ways to help people.'), ('Social Perceptiveness', \"Being aware of others' reactions and understanding why they react as they do.\"), ('Time Management', \"Managing one's own time and the time of others.\"), ('Coordination', \"Adjusting actions in relation to others' actions.\"), ('Persuasion', 'Persuading others to change their minds or behavior.'), ('Science', 'Using scientific rules and methods to solve problems.'), ('Management of Personnel Resources', 'Motivating, developing, and directing people as they work, identifying the best people for the job.'), ('Instructing', 'Teaching others how to do something.'), ('Writing', 'Communicating effectively in writing as appropriate for the needs of the audience.'), ('Learning Strategies', 'Selecting and using training/instructional methods and procedures appropriate for the situation when learning or teaching new things.'), ('Negotiation', 'Bringing others together and trying to reconcile differences.'), ('Management of Financial Resources', 'Determining how money will be spent to get the work done, and accounting for these expenditures.'), ('Management of Material Resources', 'Obtaining and seeing to the appropriate use of equipment, facilities, and materials needed to do certain work.')]\n"
          ]
        }
      ],
      "source": [
        "## worker knowledge\n",
        "\n",
        "knowledge_con = content.find('div', class_=\"reportsection\", id='Knowledge')\n",
        "knowledge_divs_all = worker_skills_con.find_all('div', class_=\"order-2 flex-grow-1\")\n",
        "\n",
        "knowledge_list = []\n",
        "for kd in knowledge_divs_all:\n",
        "  text = kd.text\n",
        "  if '—' in text:\n",
        "    title, desc = text.split('—')\n",
        "  else:\n",
        "    title = text\n",
        "    desc = None\n",
        "  knowledge_list.append((title.strip(), desc.strip()))\n",
        "\n",
        "print(knowledge_list)"
      ]
    },
    {
      "cell_type": "code",
      "execution_count": null,
      "metadata": {
        "colab": {
          "base_uri": "https://localhost:8080/"
        },
        "id": "bf3QiL5DX3KB",
        "outputId": "adc0dab7-dac4-4b70-91c1-a218fcbc07f4"
      },
      "outputs": [
        {
          "data": {
            "text/plain": [
              "[('Doctoral degree required', '81%'),\n",
              " ('Some college, no degree required', '7%'),\n",
              " ('Associate’s degree required', '6%')]"
            ]
          },
          "execution_count": 90,
          "metadata": {},
          "output_type": "execute_result"
        }
      ],
      "source": [
        "## education level\n",
        "\n",
        "education_con = content.find('div', class_=\"reportsection\", id='Education')\n",
        "education_divs_all = education_con.find_all('li', class_=\"d-flex flex-nowrap mb-1\")\n",
        "\n",
        "education_list = []\n",
        "for ed in education_divs_all:\n",
        "  spans = ed.find_all('span')\n",
        "\n",
        "  education_level = None\n",
        "  for index, span in enumerate(spans):\n",
        "    if span.text.strip() == 'responded:':\n",
        "        if index + 1 < len(spans):\n",
        "            education_level = spans[index + 1].text.replace('more info', '').strip()\n",
        "            break\n",
        "\n",
        "  precentage = ed.find('span').text.strip()\n",
        "\n",
        "  if '%' in precentage and education_level is not None:\n",
        "    education_list.append((education_level.strip('\\n'), precentage))\n",
        "\n",
        "education_list"
      ]
    },
    {
      "cell_type": "code",
      "execution_count": null,
      "metadata": {
        "colab": {
          "base_uri": "https://localhost:8080/"
        },
        "id": "M5_mh9zWdEHg",
        "outputId": "632676fc-fff0-4b02-a11a-e222d01f2cb7"
      },
      "outputs": [
        {
          "name": "stdout",
          "output_type": "stream",
          "text": [
            "[('Attention to Detail', 'Job requires being careful about detail and thorough in completing work tasks.'), ('Integrity', 'Job requires being honest and ethical.'), ('Dependability', 'Job requires being reliable, responsible, and dependable, and fulfilling obligations.'), ('Concern for Others', \"Job requires being sensitive to others' needs and feelings and being understanding and helpful on the job.\"), ('Self-Control', 'Job requires maintaining composure, keeping emotions in check, controlling anger, and avoiding aggressive behavior, even in very difficult situations.'), ('Stress Tolerance', 'Job requires accepting criticism and dealing calmly and effectively with high-stress situations.'), ('Leadership', 'Job requires a willingness to lead, take charge, and offer opinions and direction.'), ('Cooperation', 'Job requires being pleasant with others on the job and displaying a good-natured, cooperative attitude.'), ('Persistence', 'Job requires persistence in the face of obstacles.'), ('Achievement/Effort', 'Job requires establishing and maintaining personally challenging achievement goals and exerting effort toward mastering tasks.'), ('Adaptability/Flexibility', 'Job requires being open to change (positive or negative) and to considerable variety in the workplace.'), ('Initiative', 'Job requires a willingness to take on responsibilities and challenges.'), ('Analytical Thinking', 'Job requires analyzing information and using logic to address work-related issues and problems.'), ('Independence', \"Job requires developing one's own ways of doing things, guiding oneself with little or no supervision, and depending on oneself to get things done.\"), ('Social Orientation', 'Job requires preferring to work with others rather than alone, and being personally connected with others on the job.'), ('Innovation', 'Job requires creativity and alternative thinking to develop new ideas for and answers to work-related problems.')]\n"
          ]
        }
      ],
      "source": [
        "## work styles\n",
        "\n",
        "style_con = content.find('div', class_=\"reportsection\", id='WorkStyles')\n",
        "style_divs_all = style_con.find_all('div', class_=\"order-2 flex-grow-1\")\n",
        "\n",
        "style_list = []\n",
        "for sd in style_divs_all:\n",
        "  text = sd.text\n",
        "  if '—' in text:\n",
        "    title, desc = text.split('—')\n",
        "  else:\n",
        "    title = text\n",
        "    desc = None\n",
        "  style_list.append((title.strip(), desc.strip()))\n",
        "\n",
        "print(style_list)"
      ]
    },
    {
      "cell_type": "markdown",
      "metadata": {
        "id": "HUTXdzhIgIMI"
      },
      "source": [
        "### Scrape for a sample of all proffesions in the website:"
      ]
    },
    {
      "cell_type": "code",
      "execution_count": null,
      "metadata": {
        "colab": {
          "base_uri": "https://localhost:8080/"
        },
        "id": "XuhW2BCCj_dT",
        "outputId": "04809a66-f770-4fb0-8fae-791e855d291a"
      },
      "outputs": [
        {
          "data": {
            "text/plain": [
              "1016"
            ]
          },
          "execution_count": 109,
          "metadata": {},
          "output_type": "execute_result"
        }
      ],
      "source": [
        "from tqdm import tqdm\n",
        "import json\n",
        "\n",
        "len(codes)"
      ]
    },
    {
      "cell_type": "code",
      "execution_count": null,
      "metadata": {
        "colab": {
          "base_uri": "https://localhost:8080/"
        },
        "id": "m3d2WlXteWuF",
        "outputId": "9db1c508-3929-49a2-b4c1-c00706639970"
      },
      "outputs": [
        {
          "name": "stderr",
          "output_type": "stream",
          "text": [
            "100%|██████████| 300/300 [04:17<00:00,  1.16it/s]\n"
          ]
        }
      ],
      "source": [
        "prof_dicts = []\n",
        "\n",
        "for code in tqdm(codes[0:300]):\n",
        "\n",
        "  url = 'https://www.onetonline.org/link/summary/' + code\n",
        "  response = get(url,headers=headers)\n",
        "  html_soup = BeautifulSoup(response.text, 'html.parser')\n",
        "  content = html_soup.find('div', id ='content')\n",
        "\n",
        "  ## profession name:\n",
        "  name_div = content.find('span', class_ = 'main')\n",
        "  if name_div is not None:\n",
        "    name = name_div.text\n",
        "  else:\n",
        "    break\n",
        "\n",
        "  ## wage:\n",
        "  wage_div = content.find('div', id='WagesEmployment')\n",
        "  if wage_div is not None:\n",
        "    wage = wage_div.find('dd', class_=\"col-sm-9 col-form-label pt-xso-0\").text\n",
        "\n",
        "  ## occupational specific tasks:\n",
        "  tasks_con = content.find('div', class_=\"reportsection\", id='Tasks')\n",
        "  if tasks_con is not None:\n",
        "    tasks_divs_all = tasks_con.find_all('div', class_=\"order-2 flex-grow-1\")\n",
        "    tasks_list = []\n",
        "    for td in tasks_divs_all:\n",
        "      tasks_list.append(td.text.strip())\n",
        "\n",
        "  ## occupational specific technology skills:\n",
        "  techskills_con = content.find('div', class_=\"reportsection\", id='TechnologySkills')\n",
        "  if techskills_con is not None:\n",
        "    techskills_divs_all = techskills_con.find_all('div', class_=\"order-2 flex-grow-1\")\n",
        "    techskills_list = []\n",
        "    for td in techskills_divs_all:\n",
        "      text = td.text\n",
        "      if '—' in text:\n",
        "        title, desc = text.split('—')\n",
        "      else:\n",
        "        title = text\n",
        "        desc = None\n",
        "      sw_list = []\n",
        "      if desc is not None:\n",
        "        sw_list = [sw.strip() for sw in desc.split(';') if 'more' not in sw]\n",
        "      techskills_list.append((title.strip(), sw_list))\n",
        "\n",
        "  ## worker requirments skills\n",
        "  worker_skills_con = content.find('div', class_=\"reportsection\", id='Skills')\n",
        "  if worker_skills_con is not None:\n",
        "    worker_skills_divs_all = worker_skills_con.find_all('div', class_=\"order-2 flex-grow-1\")\n",
        "    worker_skills_list = []\n",
        "    for sd in worker_skills_divs_all:\n",
        "      text = sd.text\n",
        "      if '—' in text:\n",
        "        title, desc = text.split('—')\n",
        "      else:\n",
        "        title = text\n",
        "        desc = None\n",
        "      worker_skills_list.append((title.strip(), desc.strip()))\n",
        "\n",
        "  ## worker knowledge\n",
        "  knowledge_con = content.find('div', class_=\"reportsection\", id='Knowledge')\n",
        "  if knowledge_con is not None:\n",
        "    knowledge_divs_all = worker_skills_con.find_all('div', class_=\"order-2 flex-grow-1\")\n",
        "    knowledge_list = []\n",
        "    for kd in knowledge_divs_all:\n",
        "      text = kd.text\n",
        "      if '—' in text:\n",
        "        title, desc = text.split('—')\n",
        "      else:\n",
        "        title = text\n",
        "        desc = None\n",
        "      knowledge_list.append((title.strip(), desc.strip()))\n",
        "\n",
        "  ## education level\n",
        "  education_con = content.find('div', class_=\"reportsection\", id='Education')\n",
        "  if education_con is not None:\n",
        "    education_divs_all = education_con.find_all('li', class_=\"d-flex flex-nowrap mb-1\")\n",
        "    education_list = []\n",
        "    for ed in education_divs_all:\n",
        "      spans = ed.find_all('span')\n",
        "      education_level = None\n",
        "      for index, span in enumerate(spans):\n",
        "        if span.text.strip() == 'responded:':\n",
        "            if index + 1 < len(spans):\n",
        "                education_level = spans[index + 1].text.replace('more info', '').strip()\n",
        "                break\n",
        "      precentage = ed.find('span').text.strip()\n",
        "      if '%' in precentage and education_level is not None:\n",
        "        education_list.append((education_level.strip('\\n'), precentage))\n",
        "\n",
        "  ## work styles\n",
        "  style_con = content.find('div', class_=\"reportsection\", id='WorkStyles')\n",
        "  if style_con is not None:\n",
        "    style_divs_all = style_con.find_all('div', class_=\"order-2 flex-grow-1\")\n",
        "    style_list = []\n",
        "    for sd in style_divs_all:\n",
        "      text = sd.text\n",
        "      if '—' in text:\n",
        "        title, desc = text.split('—')\n",
        "      else:\n",
        "        title = text\n",
        "        desc = None\n",
        "      style_list.append((title.strip(), desc.strip()))\n",
        "\n",
        "  ## save all data:\n",
        "  profession_dict = {\n",
        "      \"name\": name,\n",
        "      \"wage\": wage if not None else '',\n",
        "      \"tasks\": tasks_list if not None else [],\n",
        "      \"skills\": worker_skills_list if not None else [],\n",
        "      \"tech_skills\": techskills_list if not None else [],\n",
        "      \"knowledge\": knowledge_list if not None else [],\n",
        "      \"education\": education_list if not None else [],\n",
        "      \"work_style\": style_list if not None else []\n",
        "  }\n",
        "  prof_dicts.append(profession_dict)"
      ]
    },
    {
      "cell_type": "code",
      "execution_count": null,
      "metadata": {
        "colab": {
          "base_uri": "https://localhost:8080/"
        },
        "id": "aGa4_pSxnAhB",
        "outputId": "64d8ffbd-62af-4f0d-8e62-cf56d6d7d5c6"
      },
      "outputs": [
        {
          "data": {
            "text/plain": [
              "300"
            ]
          },
          "execution_count": 116,
          "metadata": {},
          "output_type": "execute_result"
        }
      ],
      "source": [
        "len(prof_dicts)"
      ]
    },
    {
      "cell_type": "code",
      "execution_count": null,
      "metadata": {
        "id": "477W1Rv4i_4W"
      },
      "outputs": [],
      "source": [
        "# save the collected data:\n",
        "\n",
        "file_path = 'data/professions_data_300.json'\n",
        "with open(file_path, 'w') as json_file:\n",
        "    json.dump(prof_dicts, json_file, indent=4)"
      ]
    },
    {
      "cell_type": "markdown",
      "metadata": {
        "id": "EyX7C9ekHuBa"
      },
      "source": [
        "# Task 2: Scrape Examples of Interview Questions\n",
        "\n",
        "This data is from 'MockQuestions.com' which is a website that provides examples of interview questions, specifically by company."
      ]
    },
    {
      "cell_type": "markdown",
      "metadata": {
        "id": "NNA6ABi6-jef"
      },
      "source": [
        "### Example for one page - Amazon:"
      ]
    },
    {
      "cell_type": "code",
      "execution_count": null,
      "metadata": {
        "id": "c6J0vE7Qqo3T"
      },
      "outputs": [],
      "source": [
        "url = 'https://www.mockquestions.com/company/Amazon/'\n",
        "headers = {\"user-agent\": \"Mozilla/5.0 (Windows NT 10.0; Win64; x64) AppleWebKit/537.36 (KHTML, like Gecko) Chrome/88.0.4324.182 Safari/537.36\"}\n",
        "response = get(url,headers=headers)\n",
        "html_soup = BeautifulSoup(response.text, 'html.parser')\n",
        "\n",
        "page_div = html_soup.find('div', class_=\"float w100 answers\")"
      ]
    },
    {
      "cell_type": "code",
      "execution_count": null,
      "metadata": {
        "colab": {
          "base_uri": "https://localhost:8080/"
        },
        "id": "7hlNueog_SCb",
        "outputId": "c0ab603c-53fc-4269-de00-a0d858c47597"
      },
      "outputs": [
        {
          "data": {
            "text/plain": [
              "[('1. Tell me about your greatest work-related accomplishment.',\n",
              "  'Accomplishment'),\n",
              " ('2. What questions do you have for me?', 'Ask The Interviewer'),\n",
              " ('3. What makes you a good fit for Amazon?', 'Behavioral'),\n",
              " ('4. Tell me about someone you admire and why you admire them.',\n",
              "  'Behavioral'),\n",
              " (\"5. When starting at a new position, how do you earn your coworkers' trust?\",\n",
              "  'Behavioral'),\n",
              " ('6. Do you consider yourself a calculated risk-taker?', 'Behavioral'),\n",
              " ('7. When have you had to change a major component of your project due to new information?',\n",
              "  'Behavioral'),\n",
              " ('8. Culture fit is important to us at Amazon. How would you describe your personality?',\n",
              "  'Behavioral'),\n",
              " ('9. Do you think it is important to have fun at work?', 'Behavioral'),\n",
              " ('10. Can you discuss a time you had to be frugal in the workplace?',\n",
              "  'Behavioral'),\n",
              " ('11. We seek to hire highly ambitious people. Where would you like your career with Amazon to take you?',\n",
              "  'Career Goals'),\n",
              " ('12. Why do you want to work for Amazon?', 'Career Goals'),\n",
              " ('13. What are your professional goals for the next five years?',\n",
              "  'Career Goals'),\n",
              " ('14. Describe a situation where you had to make a decision without data.',\n",
              "  'Compatibility'),\n",
              " ('15. Do you have a Prime account? Name two benefits of having an Amazon Prime account.',\n",
              "  'Compatibility'),\n",
              " ('16. Why should we hire you?', 'Compatibility'),\n",
              " ('17. Amazon has 16 Leadership Principles. Name three of them and explain how you embody those principles.',\n",
              "  'Compatibility'),\n",
              " (\"18. What is Amazon's company mission, and what does it mean to you?\",\n",
              "  'Compatibility'),\n",
              " ('19. Who is the CEO of Amazon?', 'Competency'),\n",
              " ('20. This role with Amazon is highly technical. What is your understanding of this position and the responsibilities that come with it?',\n",
              "  'Competency'),\n",
              " ('21. We encourage innovation at Amazon. What does innovation mean to you?',\n",
              "  'Creative Thinking'),\n",
              " ('22. Jeff Bezos walks into your office and says you can have a million dollars to launch your best entrepreneurial idea. What is it?',\n",
              "  'Creative Thinking'),\n",
              " ('23. Amazon has over 300 million active customers. How do you think we can attract an even larger customer base?',\n",
              "  'Creative Thinking'),\n",
              " ('24. Have you ever had to contact Amazon customer support? If so, describe your experience.',\n",
              "  'Customer Service'),\n",
              " ('25. Amazon is known for exceptional customer service. What does excellent customer service mean to you?',\n",
              "  'Customer Service'),\n",
              " ('26. Who founded Amazon?', 'Direct'),\n",
              " (\"27. What does Amazon's Leadership Principle 'Strive to be Earth's Best Employer' mean to you?\",\n",
              "  'Direct'),\n",
              " (\"28. One of Amazon's newest Leadership Principles is 'Success and Scale Bring Broad Responsibility.' How does this principle resonate with you?\",\n",
              "  'Direct'),\n",
              " ('29. At Amazon, we take privacy and confidentiality very seriously. Are you willing to sign a non-disclosure agreement if hired?',\n",
              "  'Direct'),\n",
              " ('30. Have you ever broken a confidentiality agreement?', 'Direct'),\n",
              " ('31. How would you rate your performance in this interview so far?',\n",
              "  'Direct'),\n",
              " (\"32. What question did you hope I wouldn't ask today?\", 'Direct'),\n",
              " ('33. Tell me about yourself.', 'Discovery'),\n",
              " ('34. Do you do any volunteering in your spare time?', 'Discovery'),\n",
              " ('35. What one word would your previous supervisor used to describe you?',\n",
              "  'Discovery'),\n",
              " ('36. What do you like to do in your free time?', 'Discovery'),\n",
              " ('37. Do you know anyone who works for Amazon?', 'Discovery'),\n",
              " ('38. Amazon is a company of pioneers. How are you a pioneer?', 'Discovery'),\n",
              " ('39. In your opinion, what has been the biggest advancement in video streaming technology this past year?',\n",
              "  'Discovery'),\n",
              " ('40. What is the last thing you purchased on Amazon?', 'Discovery'),\n",
              " ('41. Amazon believes in a diverse perspective. When have you worked with a diverse group of people?',\n",
              "  'Diversity'),\n",
              " ('42. Can you talk to me about your GPA during undergraduate/graduate school?',\n",
              "  'Education'),\n",
              " ('43. What are your weaknesses?', 'EQ'),\n",
              " ('44. How do you find harmony between your professional life and your personal life?',\n",
              "  'EQ'),\n",
              " ('45. What would you consider your technical specialty?', 'Experience'),\n",
              " ('46. Tell me about the most interesting project you worked on this year and the biggest lesson you learned from it.',\n",
              "  'Experience'),\n",
              " ('47. Name one person in your life that you consider a mentor. What impact have they had on you?',\n",
              "  'Leadership'),\n",
              " ('48. Tell me about a time you disagreed with a leader.', 'Leadership'),\n",
              " ('49. At Amazon, we seek to hire leaders. Tell me about a time you took the initiative to improve work-related procedures.',\n",
              "  'Leadership'),\n",
              " ('50. What qualities do you feel make a leader successful?', 'Leadership'),\n",
              " ('51. We want to hire people at Amazon with the desire to lead others. How many people did you supervise in your last position?',\n",
              "  'Leadership'),\n",
              " (\"52. We consider research to be the backbone of what we do at Amazon. Do you think it's important to conduct research before beginning a project, or would you rather jump right in?\",\n",
              "  'Operational'),\n",
              " ('53. How many windows are there in Seattle?', 'Problem Solving'),\n",
              " ('54. Tell me about a time you helped a coworker accomplish an important goal.',\n",
              "  'Teamwork')]"
            ]
          },
          "execution_count": 9,
          "metadata": {},
          "output_type": "execute_result"
        }
      ],
      "source": [
        "company_name = \"Amazon\"\n",
        "questions_list = []\n",
        "\n",
        "q1_con = page_div.find('li', class_=\"float w100 list-none mt18 list-answers\")\n",
        "q1type = q1_con.find('div').find('p', class_=\"float w100 title-font tfont600 color-B2B2B1 text16 lh1-9\").text\n",
        "q1 = q1_con.find('h2').text.strip()\n",
        "questions_list.append((q1, q1type))\n",
        "\n",
        "question_con = page_div.find_all('li', class_=\"float w100 list-none mt50 list-answers\")\n",
        "for q_con in question_con:\n",
        "  qtype = q_con.find('p', class_=\"float w100 title-font tfont600 color-B2B2B1 text16 lh1-9\").text\n",
        "  q = q_con.find('h2').text.strip()\n",
        "  questions_list.append((q, qtype))\n",
        "\n",
        "questions_list"
      ]
    },
    {
      "cell_type": "markdown",
      "metadata": {
        "id": "1nyyjywEYPDi"
      },
      "source": [
        "## Find all companies in MockQuestions website:"
      ]
    },
    {
      "cell_type": "code",
      "execution_count": null,
      "metadata": {
        "id": "9-MX_g_X-SuQ"
      },
      "outputs": [],
      "source": [
        "import requests\n",
        "from bs4 import BeautifulSoup\n",
        "\n",
        "categories = []\n",
        "\n",
        "# Send an HTTP request to the webpage\n",
        "url = \"https://www.mockquestions.com/companies/Newest/\"\n",
        "response = requests.get(url)\n",
        "\n",
        "# Check if the request was successful (status code 200)\n",
        "if response.status_code == 200:\n",
        "    # Parse the HTML content of the webpage\n",
        "    soup = BeautifulSoup(response.content, \"html.parser\")\n",
        "\n",
        "    # Find the navigation list\n",
        "    navigation_list = soup.find(\"nav\", class_=\"float w100 mt44 pp-mt32 mb24\")\n",
        "\n",
        "    # Find all the items in the navigation list\n",
        "    if navigation_list:\n",
        "        items = navigation_list.find_all(\"a\")\n",
        "        # Extract and print the text of each item\n",
        "        for item in items:\n",
        "            categories.append(item.text.strip())\n",
        "    else:\n",
        "        print(\"Navigation list not found on the page.\")\n",
        "else:\n",
        "    print(\"Failed to retrieve the webpage. Status code:\", response.status_code)\n",
        "\n",
        "categories = categories[1:]"
      ]
    },
    {
      "cell_type": "code",
      "execution_count": null,
      "metadata": {
        "id": "Jak3GNZW_VtJ"
      },
      "outputs": [],
      "source": [
        "import re\n",
        "def remove_symbols(input_string):\n",
        "    # Define a regular expression pattern to match non-alphanumeric characters\n",
        "    pattern = r'[^a-zA-Z0-9\\s]'  # Matches anything that is not a letter, a number, or whitespace\n",
        "\n",
        "    # Use re.sub() to replace all matches of the pattern with an empty string\n",
        "    clean_string = re.sub(pattern, '', input_string)\n",
        "\n",
        "    return clean_string"
      ]
    },
    {
      "cell_type": "code",
      "execution_count": null,
      "metadata": {
        "colab": {
          "base_uri": "https://localhost:8080/"
        },
        "id": "V26QYDrMBWHQ",
        "outputId": "f3f7fa30-4d40-4070-d0e0-47eb9ac5b6df"
      },
      "outputs": [],
      "source": [
        "import requests\n",
        "from bs4 import BeautifulSoup\n",
        "\n",
        "comps = set()\n",
        "\n",
        "for cat in categories:\n",
        "  # Send a GET request to the webpage\n",
        "  url = f\"https://www.mockquestions.com/companies/{cat}/\"\n",
        "  response = requests.get(url)\n",
        "\n",
        "  if response.status_code == 200:\n",
        "      # Parse the HTML content\n",
        "      soup = BeautifulSoup(response.content, \"html.parser\")\n",
        "\n",
        "      # Find and click the desired navigation elements\n",
        "      nav_elements = soup.find(\"nav\", class_=\"float\").find_all(\"a\")\n",
        "      sub_cat = set([el.text.strip() for el in nav_elements]) - set(categories)\n",
        "\n",
        "      for nav_element in nav_elements:\n",
        "\n",
        "        if nav_element.text.strip() in sub_cat:\n",
        "          nav_url = nav_element.get(\"href\")\n",
        "          print(nav_url)\n",
        "          nav_response = requests.get(nav_url)\n",
        "          if nav_response.status_code == 200:\n",
        "                # Parse the page after clicking the navigation element\n",
        "                nav_soup = BeautifulSoup(nav_response.content, \"html.parser\")\n",
        "\n",
        "                # Extract the h4 elements\n",
        "                h4_elements = nav_soup.find_all(\"h4\")\n",
        "                for h4 in h4_elements:\n",
        "                    comps.add(h4.text)\n",
        "                    print(h4.text)\n",
        "  else:\n",
        "      print(\"Failed to fetch the webpage\")"
      ]
    },
    {
      "cell_type": "markdown",
      "metadata": {},
      "source": [
        "Select sample of companies which appear both in the companies df and in mockquestions website"
      ]
    },
    {
      "cell_type": "code",
      "execution_count": null,
      "metadata": {
        "id": "gjimTd6YGsnS"
      },
      "outputs": [],
      "source": [
        "urls_dict = {\n",
        "'American Water': ('American Water', 'https://www.linkedin.com/jobs/search?keywords=&location=United%20States&geoId=103644278&f_C=9226&f_TPR=&position=1&pageNum=0'),\n",
        "'K&L Gates': ('K&L Gates', 'https://www.linkedin.com/jobs/search?keywords=&location=United%20States&geoId=103644278&f_TPR=&f_C=164569&position=1&pageNum=0'),\n",
        "'Guidehouse': ('Guidehouse', 'https://www.linkedin.com/jobs/search?keywords=&location=United%20States&geoId=103644278&f_C=28974109&f_TPR=&position=1&pageNum=0'),\n",
        "'Scholastic': ('Scholastic', 'https://www.linkedin.com/jobs/search?keywords=&location=United%20States&geoId=103644278&f_C=4505&f_TPR=&position=1&pageNum=0'),\n",
        "'Harbor Freight Tools': ('Harbor Freight Tools', 'https://www.linkedin.com/jobs/search?keywords=&location=United%20States&geoId=103644278&f_C=28923&f_TPR=&position=1&pageNum=0'),\n",
        "'U.S. Bank': ('U.S. Bank', 'https://www.linkedin.com/jobs/search?keywords=&location=United%20States&geoId=103644278&f_C=2532&f_TPR=&position=1&pageNum=0'),\n",
        "'UC Health': ('UC Health', 'https://www.linkedin.com/jobs/search?keywords=&location=United%20States&geoId=103644278&f_C=1252954&f_TPR=&position=1&pageNum=0'),\n",
        "'Kohler Co.': ('Kohler Co.', 'https://www.linkedin.com/jobs/search?keywords=&location=United%20States&geoId=103644278&f_C=5670&f_TPR=&position=1&pageNum=0'),\n",
        "'BECU': ('BECU', 'https://www.linkedin.com/jobs/search?keywords=&location=United%20States&geoId=103644278&f_C=13985&f_TPR=&position=1&pageNum=0'),\n",
        "'American Electric Power': ('American Electric Power', 'https://www.linkedin.com/jobs/search?keywords=&location=United%20States&geoId=103644278&f_C=162419&f_TPR=&position=1&pageNum=0'),\n",
        "'Merck': ('Merck', 'https://www.linkedin.com/jobs/search?keywords=&location=United%20States&geoId=103644278&f_C=1486&f_TPR=&position=1&pageNum=0'),\n",
        "'VyStar Credit Union': ('VyStar Credit Union', 'https://www.linkedin.com/jobs/search?keywords=&location=United%20States&geoId=103644278&f_C=31580&f_TPR=&position=1&pageNum=0'),\n",
        "'Nucor Corporation': ('Nucor Corporation', 'https://www.linkedin.com/jobs/search?keywords=&location=United%20States&geoId=103644278&f_C=165257&f_TPR=&position=1&pageNum=0'),\n",
        "'Kaiser Permanente': ('Kaiser Permanente', 'https://www.linkedin.com/jobs/search?keywords=&location=United%20States&geoId=103644278&f_C=1550&f_TPR=&position=1&pageNum=0'),\n",
        "'Northwestern Mutual': ('Northwestern Mutual', 'https://www.linkedin.com/jobs/search?keywords=&location=United%20States&geoId=103644278&f_C=2445&f_TPR=&position=1&pageNum=0'),\n",
        "'Duke Energy Corporation': ('Duke Energy Corporation', 'https://www.linkedin.com/jobs/search?keywords=&location=United%20States&geoId=103644278&f_C=4066&f_TPR=&position=1&pageNum=0'),\n",
        "'Ipsos North America': ('Ipsos North America', 'https://www.linkedin.com/jobs/search?keywords=&location=United%20States&geoId=103644278&f_C=2562378&f_TPR=&position=1&pageNum=0'),\n",
        "'City National Bank': ('City National Bank', 'https://www.linkedin.com/jobs/search?keywords=&location=United%20States&geoId=103644278&f_C=163069&f_TPR=&position=1&pageNum=0'),\n",
        "'Western Digital': ('Western Digital', 'https://www.linkedin.com/jobs/search?keywords=&location=United%20States&geoId=103644278&f_C=4593&f_TPR=&position=1&pageNum=0'),\n",
        "'State Farm': ('State Farm', 'https://www.linkedin.com/jobs/search?keywords=&location=United%20States&geoId=103644278&f_C=2381&f_TPR=&position=1&pageNum=0'),\n",
        "'Honeywell': ('Honeywell', 'https://www.linkedin.com/jobs/search?keywords=&location=United%20States&geoId=103644278&f_C=1344&f_TPR=&position=1&pageNum=0'),\n",
        "'Amazon': ('Amazon', 'https://www.linkedin.com/jobs/search?keywords=&location=United%20States&geoId=103644278&f_C=1586&f_TPR=&position=1&pageNum=0'),\n",
        "'JCPenney': ('JCPenney', 'https://www.linkedin.com/jobs/search?keywords=&location=United%20States&geoId=103644278&f_C=3688&f_TPR=&position=1&pageNum=0'),\n",
        "'Whirlpool Corporation': ('Whirlpool Corporation', 'https://www.linkedin.com/jobs/search?keywords=&location=United%20States&geoId=103644278&f_C=2551&f_TPR=&position=1&pageNum=0'),\n",
        "'Magellan Health': ('Magellan Health', 'https://www.linkedin.com/jobs/search?keywords=&location=United%20States&geoId=103644278&f_C=5438&f_TPR=&position=1&pageNum=0'),\n",
        "'Ripple': ('Ripple', 'https://www.linkedin.com/jobs/search?keywords=&location=United%20States&geoId=103644278&f_C=3249443&f_TPR=&position=1&pageNum=0'),\n",
        "'iHeartMedia': ('iHeartMedia', 'https://www.linkedin.com/jobs/search?keywords=&location=United%20States&geoId=103644278&f_C=2539&f_TPR=&position=1&pageNum=0'),\n",
        "'Wal-Mart': ('Walmart', 'https://www.linkedin.com/jobs/search?keywords=&location=United%20States&geoId=103644278&f_C=2646&f_TPR=&position=1&pageNum=0'),\n",
        "'USPS': ('United States Postal Service', 'https://www.linkedin.com/jobs/search?keywords=&location=United%20States&geoId=103644278&f_C=3694&f_TPR=&position=1&pageNum=0'),\n",
        "'Wells Fargo': ('Wells Fargo', 'https://www.linkedin.com/jobs/search?keywords=&location=United%20States&geoId=103644278&f_C=1235&f_TPR=&position=1&pageNum=0'),\n",
        "'AT&T Inc.': ('AT&T', 'https://www.linkedin.com/jobs/search?keywords=&location=United%20States&geoId=103644278&f_C=1052&f_TPR=&position=1&pageNum=0'),\n",
        "'Bank of America': ('Bank of America', 'https://www.linkedin.com/jobs/search?keywords=&location=United%20States&geoId=103644278&f_C=1123&f_TPR=&position=1&pageNum=0'),\n",
        "'Target': ('Target', 'https://www.linkedin.com/jobs/search?keywords=&location=United%20States&geoId=103644278&f_C=1512&f_TPR=&position=1&pageNum=0'),\n",
        "'Microsoft': ('Microsoft', 'https://www.linkedin.com/jobs/search?keywords=&location=United%20States&geoId=103644278&f_C=1035&f_TPR=&position=1&pageNum=0'),\n",
        "'Google': ('Google', 'https://www.linkedin.com/jobs/search?keywords=&location=United%20States&geoId=103644278&f_C=1441&f_TPR=&position=1&pageNum=0'),\n",
        "'Boeing': ('Boeing', 'https://linkedin.com/jobs/search?keywords=&location=United%20States&geoId=103644278&f_C=1384&f_TPR=&position=1&pageNum=0'),\n",
        "'Lockheed Martin': ('Lockheed Martin', 'https://www.linkedin.com/jobs/search?keywords=&location=United%20States&geoId=103644278&f_C=1319&f_TPR=&position=1&pageNum=0'),\n",
        "# 'Apple': ('Apple', ),\n",
        "'JPMorgan Chase': ('JPMorgan Chase & Co.', 'https://www.linkedin.com/jobs/search?keywords=&location=United%20States&geoId=103644278&f_C=1068&f_TPR=&position=1&pageNum=0'),\n",
        "'Deloitte': ('Deloitte', 'https://www.linkedin.com/jobs/search?keywords=&location=United%20States&geoId=103644278&f_C=1038&f_TPR=&position=1&pageNum=0'),\n",
        "'Department of Veterans Affairs': ('U.S. Department of Veterans Affairs', 'https://www.linkedin.com/jobs/search?keywords=&location=United%20States&geoId=103644278&f_C=23789&f_TPR=&position=1&pageNum=0'),\n",
        "'UPS': ('UPS', 'https://www.linkedin.com/jobs/search?keywords=&location=United%20States&geoId=103644278&f_C=1523&f_TPR=&position=1&pageNum=0'),\n",
        "'General Motors': ('General Motors', 'https://www.linkedin.com/jobs/search?keywords=&location=United%20States&geoId=103644278&f_C=1472&f_TPR=&position=1&pageNum=0'),\n",
        "'Home Depot': ('The Home Depot', 'https://www.linkedin.com/jobs/search?keywords=&location=United%20States&geoId=103644278&f_C=1534&f_TPR=&position=1&pageNum=0'),\n",
        "'IBM': ('IBM', 'https://www.linkedin.com/jobs/search?keywords=&location=United%20States&geoId=103644278&f_C=1009&f_TPR=&position=1&pageNum=0'),\n",
        "'Northrop Grumman': ('Northrop Grumman', 'https://www.linkedin.com/jobs/search?keywords=&location=United%20States&geoId=103644278&f_C=1412&f_TPR=&position=1&pageNum=0'),\n",
        "'Walgreens': ('Walgreens', 'https://www.linkedin.com/jobs/search?keywords=&location=United%20States&geoId=103644278&f_C=3589&f_TPR=&position=1&pageNum=0'),\n",
        "'Ford Motor Company': ('Ford Motor Company', 'https://www.linkedin.com/jobs/search?keywords=&location=United%20States&geoId=103644278&f_C=1483&f_TPR=&position=1&pageNum=0'),\n",
        "'Starbucks': ('Starbucks', 'https://www.linkedin.com/jobs/search?keywords=&location=United%20States&geoId=103644278&f_C=2271&f_TPR=&position=1&pageNum=0'),\n",
        "'Accenture': ('Accenture', 'https://www.linkedin.com/jobs/search?keywords=&location=United%20States&geoId=103644278&f_C=1033&f_TPR=&position=1&pageNum=0'),\n",
        "'PwC': ('PwC', 'https://www.linkedin.com/jobs/search?keywords=&location=United%20States&geoId=103644278&f_C=1044&f_TPR=&position=1&pageNum=0'),\n",
        "'EY': ('EY', 'https://www.linkedin.com/jobs/search?keywords=&location=United%20States&geoId=103644278&f_C=1073&f_TPR=&position=1&pageNum=0'),\n",
        "'American Airlines': ('American Airlines', 'https://www.linkedin.com/jobs/search?keywords=&location=United%20States&geoId=103644278&f_C=2640&f_TPR=&position=1&pageNum=0'),\n",
        "'Capital One Bank': ('Capital One', 'https://www.linkedin.com/jobs/search?keywords=&location=United%20States&geoId=103644278&f_C=1419&f_TPR=&position=1&pageNum=0'),\n",
        "'Intel Corporation': ('Intel Corporation', 'https://www.linkedin.com/jobs/search?keywords=&location=United%20States&geoId=103644278&f_C=1053&f_TPR=&position=1&pageNum=0'),\n",
        "'UnitedHealth Group': ('UnitedHealth Group', 'https://www.linkedin.com/jobs/search?keywords=&location=United%20States&geoId=103644278&f_C=1720&f_TPR=&position=1&pageNum=0'),\n",
        "'PNC Bank': ('PNC', 'https://www.linkedin.com/jobs/search?keywords=&location=United%20States&geoId=103644278&f_C=4167&f_TPR=&position=1&pageNum=0'),\n",
        "'Kroger': ('Kroger', 'https://www.linkedin.com/jobs/search?keywords=&location=United%20States&geoId=103644278&f_C=4914&f_TPR=&position=1&pageNum=0'),\n",
        "'T-Mobile': ('T-Mobile', 'https://www.linkedin.com/jobs/search?keywords=&location=United%20States&geoId=103644278&f_C=1392&f_TPR=&position=1&pageNum=0'),\n",
        "'Mayo Clinic': ('Mayo Clinic', 'https://www.linkedin.com/jobs/search?keywords=&location=United%20States&geoId=103644278&f_C=4725&f_TPR=&position=1&pageNum=0'),\n",
        "'Oracle': ('Oracle', 'https://www.linkedin.com/jobs/search?keywords=&location=United%20States&geoId=103644278&f_C=1028&f_TPR=&position=1&pageNum=0'),\n",
        "'Costco': ('Costco Wholesale', 'https://www.linkedin.com/jobs/search?keywords=&location=United%20States&geoId=103644278&f_C=163225&f_TPR=&position=1&pageNum=0'),\n",
        "'Best Buy': ('Best Buy', 'https://www.linkedin.com/jobs/search?keywords=&location=United%20States&geoId=103644278&f_C=2127&f_TPR=&position=1&pageNum=0'),\n",
        "'Facebook': ('Meta', 'https://www.linkedin.com/jobs/search?keywords=&location=United%20States&geoId=103644278&f_C=10667&f_TPR=&position=1&pageNum=0'),\n",
        "'Cleveland Clinic': ('Cleveland Clinic', 'https://www.linkedin.com/jobs/search?keywords=&location=United%20States&geoId=103644278&f_C=5656&f_TPR=&position=1&pageNum=0'),\n",
        "'Farmers Insurance': ('Farmers Insurance', 'https://www.linkedin.com/jobs/search?keywords=&location=United%20States&geoId=103644278&f_C=3240&f_TPR=&position=1&pageNum=0'),\n",
        "'United Airlines': ('United Airlines', 'https://www.linkedin.com/jobs/search?keywords=&location=United%20States&geoId=103644278&f_C=2380&f_TPR=&position=1&pageNum=0'),\n",
        "'Allstate': ('Allstate', 'https://www.linkedin.com/jobs/search?keywords=&location=United%20States&geoId=103644278&f_C=1835&f_TPR=&position=1&pageNum=0'),\n",
        "'Medtronic': ('Medtronic', 'https://www.linkedin.com/jobs/search?keywords=&location=United%20States&geoId=103644278&f_C=1841&f_TPR=&position=1&pageNum=0'),\n",
        "'Comcast': ('Comcast', 'https://www.linkedin.com/jobs/search?keywords=&location=United%20States&geoId=103644278&f_C=1703&f_TPR=&position=1&pageNum=0'),\n",
        "'Humana': ('Humana', 'https://www.linkedin.com/jobs/search?keywords=&location=United%20States&geoId=103644278&f_C=4257&f_TPR=&position=1&pageNum=0'),\n",
        "'Tesla Motors Inc.': ('Tesla', 'https://www.linkedin.com/jobs/search?keywords=&location=United%20States&geoId=103644278&f_C=15564&f_TPR=&position=1&pageNum=0'),\n",
        "'Southwest Airlines': ('Southwest Airlines', 'https://www.linkedin.com/jobs/search?keywords=&location=United%20States&geoId=103644278&f_C=4599&f_TPR=&position=1&pageNum=0'),\n",
        "'USAA': ('USAA', 'https://www.linkedin.com/jobs/search?keywords=&location=United%20States&geoId=103644278&f_C=4501&f_TPR=&position=1&pageNum=0'),\n",
        "'Optum, Inc.': ('Optum', 'https://www.linkedin.com/jobs/search?keywords=&location=United%20States&geoId=103644278&f_C=3617422&f_TPR=&position=1&pageNum=0'),\n",
        "'Edward Jones': ('Edward Jones', 'https://www.linkedin.com/jobs/search?keywords=&location=United%20States&geoId=103644278&f_C=3677&f_TPR=&position=1&pageNum=0'),\n",
        "'Cisco': ('Cisco', 'https://www.linkedin.com/jobs/search?keywords=&location=United%20States&geoId=103644278&f_C=1063&f_TPR=&position=1&pageNum=0'),\n",
        "'H&R Block Inc.': ('H&R Block', 'https://www.linkedin.com/jobs/search?keywords=&location=United%20States&geoId=103644278&f_C=3671&f_TPR=&position=1&pageNum=0'),\n",
        "'Morgan Stanley': ('Morgan Stanley', 'https://www.linkedin.com/jobs/search?keywords=&location=United%20States&geoId=103644278&f_C=497017&f_TPR=&position=1&pageNum=0'),\n",
        "'Delta Air Lines': ('Delta Air Lines', 'https://www.linkedin.com/jobs/search?keywords=&location=United%20States&geoId=103644278&f_C=2272&f_TPR=&position=1&pageNum=0'),\n",
        "'PepsiCo': ('PepsiCo', 'https://www.linkedin.com/jobs/search?keywords=&location=United%20States&geoId=103644278&f_C=1431&f_TPR=&position=1&pageNum=0'),\n",
        "'McDonalds': (\"McDonald's\", 'https://www.linkedin.com/jobs/search?keywords=&location=United%20States&geoId=103644278&f_C=2677&f_TPR=&position=1&pageNum=0'),\n",
        "'IRS': ('Internal Revenue Service', 'https://www.linkedin.com/jobs/search?keywords=&location=United%20States&geoId=103644278&f_C=4922&f_TPR=&position=1&pageNum=0'),\n",
        "'Nordstrom': ('Nordstrom', 'https://linkedin.com/jobs/search?keywords=&location=United%20States&geoId=103644278&f_C=3379&f_TPR=&position=1&pageNum=0'),\n",
        "'Whole Foods': ('Whole Foods Market', 'https://www.linkedin.com/jobs/search?keywords=&location=United%20States&geoId=103644278&f_C=157353&f_TPR=&position=1&pageNum=0'),\n",
        "'Progressive': ('Progressive Insurance', 'https://www.linkedin.com/jobs/search?keywords=&location=United%20States&geoId=103644278&f_C=3264&f_TPR=&position=1&pageNum=0'),\n",
        "'Marriott': ('Marriott International', 'https://www.linkedin.com/jobs/search?keywords=&location=United%20States&geoId=103644278&f_C=2311&f_TPR=&position=1&pageNum=0'),\n",
        "'Raytheon': ('Raytheon', 'https://www.linkedin.com/jobs/search?keywords=&location=United%20States&geoId=103644278&f_C=1505&f_TPR=&position=1&pageNum=0'),\n",
        "'Pfizer': ('Pfizer', 'https://www.linkedin.com/jobs/search?keywords=&location=United%20States&geoId=103644278&f_C=1185&f_TPR=&position=1&pageNum=0'),\n",
        "'Publix': ('Publix Super Markets', 'https://www.linkedin.com/jobs/search?keywords=&location=United%20States&geoId=103644278&f_C=7242&f_TPR=&position=1&pageNum=0'),\n",
        "'Liberty Mutual': ('Liberty Mutual Insurance', 'https://www.linkedin.com/jobs/search?keywords=&location=United%20States&geoId=103644278&f_C=2701&f_TPR=&position=1&pageNum=0'),\n",
        "'Procter and Gamble': ('Procter & Gamble', 'https://www.linkedin.com/jobs/search?keywords=&location=United%20States&geoId=103644278&f_C=1116&f_TPR=&position=1&pageNum=0'),\n",
        "'3M': ('3M', 'https://www.linkedin.com/jobs/search?keywords=&location=United%20States&geoId=103644278&f_C=1864&f_TPR=&position=1&pageNum=0')\n",
        "}"
      ]
    },
    {
      "cell_type": "markdown",
      "metadata": {},
      "source": [
        "Scrape questions for these companies"
      ]
    },
    {
      "cell_type": "code",
      "execution_count": null,
      "metadata": {
        "colab": {
          "base_uri": "https://localhost:8080/",
          "height": 36
        },
        "id": "V49n_4ssMMDx",
        "outputId": "53dfde4d-83e4-44df-ddf3-27a1c77b9e6e"
      },
      "outputs": [],
      "source": [
        "url = 'https://www.mockquestions.com/company/'\n",
        "headers = {\"user-agent\": \"Mozilla/5.0 (Windows NT 10.0; Win64; x64) AppleWebKit/537.36 (KHTML, like Gecko) Chrome/88.0.4324.182 Safari/537.36\"}\n",
        "\n",
        "data = []\n",
        "columns = ['mock_name', 'data_name', 'category', 'question']\n",
        "type_counter = 0\n",
        "\n",
        "for mock_name, value in urls_dict.items():\n",
        "\n",
        "    questions_list = []\n",
        "\n",
        "    cur_url = url + mock_name.replace(\" \", \"+\") + '/'\n",
        "    response = get(cur_url,headers=headers)\n",
        "    html_soup = BeautifulSoup(response.text, 'html.parser')\n",
        "    page_div = html_soup.find('div', class_=\"float w100 answers\")\n",
        "\n",
        "    print(mock_name, page_div == None)\n",
        "\n",
        "    if not page_div:\n",
        "      continue\n",
        "\n",
        "    q1_con = page_div.find('li', class_=\"float w100 list-none mt18 list-answers\")\n",
        "    q1type = q1_con.find('div').find('p', class_=\"float w100 title-font tfont600 color-B2B2B1 text16 lh1-9\")\n",
        "\n",
        "    if q1type:\n",
        "      q1type = q1type.text\n",
        "      type_counter += 1\n",
        "    else:\n",
        "      q1type = None\n",
        "    q1 = q1_con.find('h2').text.strip()\n",
        "    data.append((mock_name, value[0], q1type, q1))\n",
        "\n",
        "    question_con = page_div.find_all('li', class_=\"float w100 list-none mt50 list-answers\")\n",
        "    for q_con in question_con:\n",
        "        qtype = q_con.find('p', class_=\"float w100 title-font tfont600 color-B2B2B1 text16 lh1-9\")\n",
        "        if qtype:\n",
        "          qtype = qtype.text\n",
        "        else:\n",
        "          qtype = None\n",
        "        q = q_con.find('h2').text.strip()\n",
        "        data.append((mock_name, value[0], qtype, q))\n",
        "\n",
        "q_df = pd.DataFrame(data, columns=columns)\n",
        "q_df.to_csv('questions.csv')"
      ]
    },
    {
      "cell_type": "markdown",
      "metadata": {
        "id": "qK7PqklqXy6W"
      },
      "source": [
        "# Task 3: LinkedIn position search\n",
        "\n",
        "This data is from LinkedIn, using the Bright-Data API. This data allows us to connect between a company and the positions they offer, as a proof of concept for our product (which will be located on the position page and have access to this information).\n",
        "\n",
        "This data is not used to train the model, but to show the potential of the product."
      ]
    },
    {
      "cell_type": "code",
      "execution_count": null,
      "metadata": {
        "id": "Eo13QuYuARNT"
      },
      "outputs": [],
      "source": [
        "proxies = {}\n",
        "\n",
        "data = []\n",
        "columns = ['company', 'company_in_data', 'job']\n",
        "\n",
        "for mock_name, (data_name, url) in urls_dict.items():\n",
        "\n",
        "  # get page\n",
        "  res = get(url, proxies=proxies, verify=False)\n",
        "  res.raise_for_status()\n",
        "  res_body = res.text\n",
        "  html_soup = BeautifulSoup(res_body, \"html.parser\")\n",
        "\n",
        "  # Get list of job names\n",
        "  nav_list = html_soup.find('ul', class_=\"jobs-search__results-list\")\n",
        "  job_elements = nav_list.find_all('li')\n",
        "  job_names = [el.find('span').text.strip() for el in job_elements]\n",
        "\n",
        "  for job in job_names:\n",
        "    data.append((mock_name, data_name, job))"
      ]
    },
    {
      "cell_type": "code",
      "execution_count": null,
      "metadata": {
        "id": "Tbmm1p2Jnwf8"
      },
      "outputs": [],
      "source": [
        "jobs_df = pd.DataFrame(data, columns=columns)\n",
        "jobs_df.to_csv('jobs_final.csv')"
      ]
    }
  ],
  "metadata": {
    "colab": {
      "provenance": []
    },
    "kernelspec": {
      "display_name": "Python 3",
      "name": "python3"
    },
    "language_info": {
      "name": "python"
    }
  },
  "nbformat": 4,
  "nbformat_minor": 0
}
